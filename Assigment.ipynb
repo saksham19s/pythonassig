{
 "cells": [
  {
   "cell_type": "code",
   "execution_count": 13,
   "id": "13c3eb93-d217-4a0d-92f2-8cc82b8bb8fc",
   "metadata": {},
   "outputs": [],
   "source": [
    "# 1. In the below elements which of them are values or an expression? eg:- values can be\n",
    "#integer or string and expressions will be mathematical operators.\n",
    "# * = expression\n",
    "#A = 'hello' \n",
    "#type(A) = String \n",
    "# -87.8 = Float\n",
    "# - = expression\n",
    "# | = expression\n",
    "# + = expression\n",
    "# 6 = Integer"
   ]
  },
  {
   "cell_type": "code",
   "execution_count": 15,
   "id": "02e88f87-d295-4975-b514-516c19402818",
   "metadata": {},
   "outputs": [],
   "source": [
    "#2. \"Hello\" = String \n",
    "#A = \"Hello\"\n",
    "#A = variable is a name used to store data\n"
   ]
  },
  {
   "cell_type": "code",
   "execution_count": 19,
   "id": "e71e8a30-5813-4d2a-a7c6-dcea9ac2743c",
   "metadata": {},
   "outputs": [],
   "source": [
    "#3. \n",
    "#marks = 20\n",
    "#type (marks) = Integer\n",
    "#A = -0.5 = Float\n",
    "#\"sachin\" = string"
   ]
  },
  {
   "cell_type": "code",
   "execution_count": 20,
   "id": "64da27f1-0370-4ee8-b2ce-504b437aee04",
   "metadata": {},
   "outputs": [],
   "source": [
    "#4.An expression is made up of values, variables, operators. All expression evaluate to a value.\n",
    "    "
   ]
  },
  {
   "cell_type": "code",
   "execution_count": 21,
   "id": "60804e1a-2ab9-4b98-95e2-13d3c0b3414c",
   "metadata": {},
   "outputs": [],
   "source": [
    "#5.expression = A code that evaluates to a value.e.g 2+2, \"hello\", 2*5.\n",
    "#statement = A code that does something like assigning a value(spam= 10) and printing out (print('hello'))."
   ]
  },
  {
   "cell_type": "code",
   "execution_count": 23,
   "id": "aa48cb89-9f55-4ca0-9fe4-8b77929ab790",
   "metadata": {},
   "outputs": [
    {
     "data": {
      "text/plain": [
       "23"
      ]
     },
     "execution_count": 23,
     "metadata": {},
     "output_type": "execute_result"
    }
   ],
   "source": [
    "#6.After running the following code, what does the variable bacon contain?\n",
    "bacon = 22\n",
    "bacon + 1\n",
    "# bacon will conatain 23"
   ]
  },
  {
   "cell_type": "code",
   "execution_count": 25,
   "id": "8be403ff-3a02-4379-80e7-47e6bf9f1c01",
   "metadata": {},
   "outputs": [
    {
     "name": "stdout",
     "output_type": "stream",
     "text": [
      "Object `be` not found.\n"
     ]
    },
    {
     "data": {
      "text/plain": [
       "'spamspamspam'"
      ]
     },
     "execution_count": 25,
     "metadata": {},
     "output_type": "execute_result"
    }
   ],
   "source": [
    "7. What should the values of the following two terms be?\n",
    "#'spam' + 'spamspam'\n",
    "'spam'*3\n",
    "# both result = 'spamspamspam' "
   ]
  },
  {
   "cell_type": "code",
   "execution_count": 26,
   "id": "4752d37b-999f-402e-8f09-9c309d1a5432",
   "metadata": {},
   "outputs": [],
   "source": [
    "#8.because variable start with letters or underscore \n",
    "#eggs = it start with letter and 100 with number is invalid"
   ]
  },
  {
   "cell_type": "code",
   "execution_count": 29,
   "id": "cdb1aa24-d379-450e-a2dd-db966f9e709f",
   "metadata": {},
   "outputs": [
    {
     "name": "stdout",
     "output_type": "stream",
     "text": [
      "11.5 <class 'float'>\n"
     ]
    }
   ],
   "source": [
    "#9. int() \n",
    "# float()\n",
    "# str()\n",
    "\n",
    "#a = int(\"10\")\n",
    "#print(a, type(a))\n",
    "\n",
    "b = float(\"11.5\")\n",
    "print(b, type(b))\n",
    "\n",
    " "
   ]
  },
  {
   "cell_type": "code",
   "execution_count": 27,
   "id": "da57969f-f705-477c-8984-9a16be49b55b",
   "metadata": {},
   "outputs": [
    {
     "data": {
      "text/plain": [
       "'I have eaten 99burritos.'"
      ]
     },
     "execution_count": 27,
     "metadata": {},
     "output_type": "execute_result"
    }
   ],
   "source": [
    "#10.10. Why does this expression cause an error? How can you fix it?\n",
    "#'I have eaten ' + 99 + 'burritos.'\n",
    "'I have eaten ' + str(99) + 'burritos.'"
   ]
  },
  {
   "cell_type": "code",
   "execution_count": null,
   "id": "c1fb15a2-0e94-45f6-b639-f38dfae3fb09",
   "metadata": {},
   "outputs": [],
   "source": []
  }
 ],
 "metadata": {
  "kernelspec": {
   "display_name": "Python 3 (ipykernel)",
   "language": "python",
   "name": "python3"
  },
  "language_info": {
   "codemirror_mode": {
    "name": "ipython",
    "version": 3
   },
   "file_extension": ".py",
   "mimetype": "text/x-python",
   "name": "python",
   "nbconvert_exporter": "python",
   "pygments_lexer": "ipython3",
   "version": "3.13.3"
  }
 },
 "nbformat": 4,
 "nbformat_minor": 5
}
