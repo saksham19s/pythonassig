{
 "cells": [
  {
   "cell_type": "code",
   "execution_count": 1,
   "id": "17ff3115-a00e-4c6c-b0d0-b59a98761a3b",
   "metadata": {},
   "outputs": [
    {
     "name": "stdout",
     "output_type": "stream",
     "text": [
      "Hello world\n"
     ]
    }
   ],
   "source": [
    "#1. str capitalize()\n",
    "A = \"hello world\"\n",
    "print(A.capitalize())"
   ]
  },
  {
   "cell_type": "code",
   "execution_count": 2,
   "id": "1e929cde-f27c-4348-9e70-58695860e851",
   "metadata": {},
   "outputs": [
    {
     "name": "stdout",
     "output_type": "stream",
     "text": [
      "how are you\n"
     ]
    }
   ],
   "source": [
    "#2.\n",
    "B = \"HOW ARE YOU\"\n",
    "print(B.casefold())"
   ]
  },
  {
   "cell_type": "code",
   "execution_count": 3,
   "id": "01f8a284-6b89-4b67-9c8c-8ad1c2842d13",
   "metadata": {},
   "outputs": [
    {
     "name": "stdout",
     "output_type": "stream",
     "text": [
      "_____hello_____\n"
     ]
    }
   ],
   "source": [
    "#3.\n",
    "C = \"hello\"\n",
    "print(C.center(15,\"_\"))"
   ]
  },
  {
   "cell_type": "code",
   "execution_count": 4,
   "id": "c7a401a7-e016-425a-a3dd-189231a5940a",
   "metadata": {},
   "outputs": [
    {
     "name": "stdout",
     "output_type": "stream",
     "text": [
      "4\n"
     ]
    }
   ],
   "source": [
    "#4.\n",
    "D = \"Saksham rana\"\n",
    "print(D.count(\"a\"))"
   ]
  },
  {
   "cell_type": "code",
   "execution_count": 5,
   "id": "7ab2e2f4-81b0-4c8b-8552-5a6e75410163",
   "metadata": {},
   "outputs": [
    {
     "name": "stdout",
     "output_type": "stream",
     "text": [
      "b'hello'\n"
     ]
    }
   ],
   "source": [
    "#5.\n",
    "E = \"hello\"\n",
    "print(E.encode())"
   ]
  },
  {
   "cell_type": "code",
   "execution_count": 6,
   "id": "24a0b97d-f20e-44b4-9ad9-a2615a669845",
   "metadata": {},
   "outputs": [
    {
     "name": "stdout",
     "output_type": "stream",
     "text": [
      "True\n"
     ]
    }
   ],
   "source": [
    "#6.\n",
    "F = \"myself saksham\"\n",
    "print(F.endswith(\"saksham\"))"
   ]
  },
  {
   "cell_type": "code",
   "execution_count": 8,
   "id": "4e96e524-fa85-48f8-8c63-f801a356511c",
   "metadata": {},
   "outputs": [
    {
     "name": "stdout",
     "output_type": "stream",
     "text": [
      "myself  saksham\n"
     ]
    }
   ],
   "source": [
    "#7.\n",
    "G = \"myself\\tsaksham\"\n",
    "print(G.expandtabs(4))"
   ]
  },
  {
   "cell_type": "code",
   "execution_count": 11,
   "id": "b964cfe9-d258-4385-9133-07762802377c",
   "metadata": {},
   "outputs": [
    {
     "name": "stdout",
     "output_type": "stream",
     "text": [
      "6\n"
     ]
    }
   ],
   "source": [
    "#8.\n",
    "H = \"hello sachin\"\n",
    "print(H.find(\"sachin\"))"
   ]
  },
  {
   "cell_type": "code",
   "execution_count": 12,
   "id": "944b0f6c-dc42-4ca2-bf77-fce8b2664087",
   "metadata": {},
   "outputs": [
    {
     "name": "stdout",
     "output_type": "stream",
     "text": [
      "hello myself sachin\n"
     ]
    }
   ],
   "source": [
    "#9.\n",
    "I = \"hello myself {}\".format(\"sachin\")\n",
    "print(I)"
   ]
  },
  {
   "cell_type": "code",
   "execution_count": 14,
   "id": "832701f3-4f78-4a9d-a1fe-e5a0388cc7eb",
   "metadata": {},
   "outputs": [
    {
     "name": "stdout",
     "output_type": "stream",
     "text": [
      "My name is sachin and i am 22 years old.\n"
     ]
    }
   ],
   "source": [
    "#10.\n",
    "data = {\"name\": \"sachin\", \"age\":22}\n",
    "J = \"My name is {name} and i am {age} years old.\".format_map(data)\n",
    "print(J)"
   ]
  },
  {
   "cell_type": "code",
   "execution_count": 15,
   "id": "c7ea6c9a-8f29-4ebd-bdac-e742f0ace24b",
   "metadata": {},
   "outputs": [
    {
     "name": "stdout",
     "output_type": "stream",
     "text": [
      "7\n"
     ]
    }
   ],
   "source": [
    "#11.\n",
    "K = \"myself sachin\"\n",
    "print(K.index(\"sachin\"))"
   ]
  },
  {
   "cell_type": "code",
   "execution_count": 16,
   "id": "5e157377-ba69-4ab4-b7e3-e333eca5f6fb",
   "metadata": {},
   "outputs": [
    {
     "name": "stdout",
     "output_type": "stream",
     "text": [
      "True\n"
     ]
    }
   ],
   "source": [
    "#12.\n",
    "L = \"hello123\"\n",
    "print(L.isalnum())"
   ]
  },
  {
   "cell_type": "code",
   "execution_count": 17,
   "id": "8e915431-6037-48fd-8dfe-d8c7ac7d9ffb",
   "metadata": {},
   "outputs": [
    {
     "name": "stdout",
     "output_type": "stream",
     "text": [
      "True\n"
     ]
    }
   ],
   "source": [
    "#13.\n",
    "M = \"Hello\"\n",
    "print(M.isalpha())\n"
   ]
  },
  {
   "cell_type": "code",
   "execution_count": 19,
   "id": "35467ede-87fd-4139-b86e-2d361a725143",
   "metadata": {},
   "outputs": [
    {
     "name": "stdout",
     "output_type": "stream",
     "text": [
      "True\n",
      "True\n"
     ]
    }
   ],
   "source": [
    "#14.\n",
    "N = \"hello123\"\n",
    "print(N.isascii())\n"
   ]
  },
  {
   "cell_type": "code",
   "execution_count": 21,
   "id": "b02b228c-0562-4a93-bebb-654eb0ab40ef",
   "metadata": {},
   "outputs": [
    {
     "name": "stdout",
     "output_type": "stream",
     "text": [
      "True\n",
      "False\n"
     ]
    }
   ],
   "source": [
    "#15.\n",
    "O = \"12345\"\n",
    "print(O.isdecimal())\n",
    "OO = \"12.5\"\n",
    "print(OO.isdecimal())"
   ]
  },
  {
   "cell_type": "code",
   "execution_count": 22,
   "id": "e404f5b7-4733-4ce7-991e-669601a9aa42",
   "metadata": {},
   "outputs": [
    {
     "name": "stdout",
     "output_type": "stream",
     "text": [
      "True\n"
     ]
    }
   ],
   "source": [
    "#16.\n",
    "P = \"1234\"\n",
    "print(P.isdigit())"
   ]
  },
  {
   "cell_type": "code",
   "execution_count": 23,
   "id": "78075e78-8c9c-45c9-93ce-a468a99179a1",
   "metadata": {},
   "outputs": [
    {
     "name": "stdout",
     "output_type": "stream",
     "text": [
      "True\n"
     ]
    }
   ],
   "source": [
    "#17.\n",
    "Q = \"vairable_name\"\n",
    "print(Q.isidentifier())"
   ]
  },
  {
   "cell_type": "code",
   "execution_count": 24,
   "id": "353fed18-991c-47b8-92bd-d15e349fccd9",
   "metadata": {},
   "outputs": [
    {
     "name": "stdout",
     "output_type": "stream",
     "text": [
      "True\n"
     ]
    }
   ],
   "source": [
    "#18.\n",
    "R = \"sachin\"\n",
    "print(R.islower())"
   ]
  },
  {
   "cell_type": "code",
   "execution_count": 25,
   "id": "d58d3a8d-9983-4cbc-99a9-2d402c4525ab",
   "metadata": {},
   "outputs": [
    {
     "name": "stdout",
     "output_type": "stream",
     "text": [
      "True\n"
     ]
    }
   ],
   "source": [
    "#19.\n",
    "S = \"12345\"\n",
    "print(S.isnumeric())"
   ]
  },
  {
   "cell_type": "code",
   "execution_count": 26,
   "id": "4928eae4-fca3-4ad7-883a-8716b8fe397b",
   "metadata": {},
   "outputs": [
    {
     "name": "stdout",
     "output_type": "stream",
     "text": [
      "True\n"
     ]
    }
   ],
   "source": [
    "#20.\n",
    "T = \"hello world\"\n",
    "print(T.isprintable())"
   ]
  },
  {
   "cell_type": "code",
   "execution_count": 27,
   "id": "6a3e35c2-6d81-441a-9ea0-9e7b9b12d966",
   "metadata": {},
   "outputs": [
    {
     "name": "stdout",
     "output_type": "stream",
     "text": [
      "True\n"
     ]
    }
   ],
   "source": [
    "#21.\n",
    "U = \"   \"\n",
    "print(U.isspace())"
   ]
  },
  {
   "cell_type": "code",
   "execution_count": 29,
   "id": "7ebf584f-0c78-48e0-9b38-beaaea789fc4",
   "metadata": {},
   "outputs": [
    {
     "name": "stdout",
     "output_type": "stream",
     "text": [
      "True\n"
     ]
    }
   ],
   "source": [
    "#22.\n",
    "V = \"Hello Sachin\"\n",
    "print(V.istitle())"
   ]
  },
  {
   "cell_type": "code",
   "execution_count": 31,
   "id": "3cd16624-80e5-48db-b3f0-c3646ccecfab",
   "metadata": {},
   "outputs": [
    {
     "name": "stdout",
     "output_type": "stream",
     "text": [
      "True\n"
     ]
    }
   ],
   "source": [
    "#23.\n",
    "W = \"HELLO\"\n",
    "print(W.isupper())"
   ]
  },
  {
   "cell_type": "code",
   "execution_count": 34,
   "id": "a7bcdad5-3547-44d5-b4b4-65f6336e4136",
   "metadata": {},
   "outputs": [
    {
     "name": "stdout",
     "output_type": "stream",
     "text": [
      "HelloSachin\n"
     ]
    }
   ],
   "source": [
    "#24.\n",
    "X = [\"Hello\" , \"Sachin\"]\n",
    "print(\"\".join(X))"
   ]
  },
  {
   "cell_type": "code",
   "execution_count": 36,
   "id": "c218f904-ede2-43b0-9c0f-00eaf5ca67cb",
   "metadata": {},
   "outputs": [
    {
     "name": "stdout",
     "output_type": "stream",
     "text": [
      "Hi___\n"
     ]
    }
   ],
   "source": [
    "#25.\n",
    "Y = \"Hi\"\n",
    "print(Y.ljust(5,\"_\"))"
   ]
  },
  {
   "cell_type": "code",
   "execution_count": 39,
   "id": "04238dc7-c999-4738-900c-08e3ec840f64",
   "metadata": {},
   "outputs": [
    {
     "name": "stdout",
     "output_type": "stream",
     "text": [
      "hello\n"
     ]
    }
   ],
   "source": [
    "#26\n",
    "Z = \"HELLO\"\n",
    "print(Z.lower())"
   ]
  },
  {
   "cell_type": "code",
   "execution_count": 40,
   "id": "46ca95fc-f0e4-46d1-ae36-5b6b16f73f65",
   "metadata": {},
   "outputs": [
    {
     "name": "stdout",
     "output_type": "stream",
     "text": [
      "hello  \n"
     ]
    }
   ],
   "source": [
    "#27.\n",
    "A = \"   hello  \"\n",
    "print(A.lstrip())"
   ]
  },
  {
   "cell_type": "code",
   "execution_count": 41,
   "id": "bb595d8b-7ca1-4a14-92a7-c2f9ac670aa1",
   "metadata": {},
   "outputs": [
    {
     "name": "stdout",
     "output_type": "stream",
     "text": [
      "hello\n"
     ]
    }
   ],
   "source": [
    "#28.\n",
    "\n",
    "A = \"hello\"\n"
   ]
  },
  {
   "cell_type": "code",
   "execution_count": 42,
   "id": "88bdfe9f-8e51-4a86-8034-3b40e9279e2a",
   "metadata": {},
   "outputs": [
    {
     "name": "stdout",
     "output_type": "stream",
     "text": [
      "('apple', '-', 'orange-banana')\n"
     ]
    }
   ],
   "source": [
    "#29.\n",
    "A = \"apple-orange-banana\"\n",
    "print(A.partition(\"-\"))"
   ]
  },
  {
   "cell_type": "code",
   "execution_count": 43,
   "id": "820ae059-e9a7-42f8-b40c-992edbc5b084",
   "metadata": {},
   "outputs": [
    {
     "name": "stdout",
     "output_type": "stream",
     "text": [
      "World\n"
     ]
    }
   ],
   "source": [
    "#30.\n",
    "A = \"HelloWorld\"\n",
    "print(A.removeprefix(\"Hello\"))"
   ]
  },
  {
   "cell_type": "code",
   "execution_count": 46,
   "id": "b4482f95-cfb6-473d-8096-81906d88cd62",
   "metadata": {},
   "outputs": [
    {
     "name": "stdout",
     "output_type": "stream",
     "text": [
      "Hello\n"
     ]
    }
   ],
   "source": [
    "#31.\n",
    "A = \"HelloWorld\"\n",
    "print(A.removesuffix(\"World\"))"
   ]
  },
  {
   "cell_type": "code",
   "execution_count": 48,
   "id": "b6696879-3080-4b46-880c-cdd9e1c45136",
   "metadata": {},
   "outputs": [
    {
     "name": "stdout",
     "output_type": "stream",
     "text": [
      "sochin\n"
     ]
    }
   ],
   "source": [
    "#32.\n",
    "A = \"sachin\"\n",
    "print(A.replace(\"a\", \"o\"))"
   ]
  },
  {
   "cell_type": "code",
   "execution_count": 49,
   "id": "d76cac73-f763-4124-b125-6c6423048596",
   "metadata": {},
   "outputs": [
    {
     "name": "stdout",
     "output_type": "stream",
     "text": [
      "1\n"
     ]
    }
   ],
   "source": [
    "#33.\n",
    "A = \"sachin\"\n",
    "print(A.rfind(\"a\"))"
   ]
  },
  {
   "cell_type": "code",
   "execution_count": 52,
   "id": "7ab10111-f105-416a-88cd-6137542e0ee4",
   "metadata": {},
   "outputs": [
    {
     "name": "stdout",
     "output_type": "stream",
     "text": [
      "1\n"
     ]
    }
   ],
   "source": [
    "#34.\n",
    "A = \"sachin\"\n",
    "print(A.rindex(\"a\"))"
   ]
  },
  {
   "cell_type": "code",
   "execution_count": 54,
   "id": "31c193a8-f1ac-45af-a7f9-0f9d277af0e8",
   "metadata": {},
   "outputs": [
    {
     "name": "stdout",
     "output_type": "stream",
     "text": [
      "---hi\n"
     ]
    }
   ],
   "source": [
    "#35.\n",
    "A = \"hi\"\n",
    "print(A.rjust(5,\"-\"))"
   ]
  },
  {
   "cell_type": "code",
   "execution_count": 55,
   "id": "f84040d3-d173-474e-8aae-b7fa98964fb3",
   "metadata": {},
   "outputs": [
    {
     "name": "stdout",
     "output_type": "stream",
     "text": [
      "['apple,banana', 'orange']\n"
     ]
    }
   ],
   "source": [
    "#36.\n",
    "A = \"apple,banana,orange\"\n",
    "print(A.rsplit(\",\",1))"
   ]
  },
  {
   "cell_type": "code",
   "execution_count": 57,
   "id": "eaae5ae1-59a7-4dc6-ad2b-2737d22d53d0",
   "metadata": {},
   "outputs": [
    {
     "name": "stdout",
     "output_type": "stream",
     "text": [
      "hello\n",
      "hello\n"
     ]
    }
   ],
   "source": [
    "#37.\n",
    "a = \"hello\"\n",
    "print(a.rstrip())\n",
    "aa = \"helloaa\"\n",
    "print(aa.rstrip(\"a\"))"
   ]
  },
  {
   "cell_type": "code",
   "execution_count": 58,
   "id": "d7e77f09-da00-4f67-b3c1-148e8f1f84fd",
   "metadata": {},
   "outputs": [
    {
     "name": "stdout",
     "output_type": "stream",
     "text": [
      "['apple', 'orange', 'banana']\n"
     ]
    }
   ],
   "source": [
    "#38.\n",
    "a = \"apple orange banana\"\n",
    "print(a.split())"
   ]
  },
  {
   "cell_type": "code",
   "execution_count": 59,
   "id": "3f2822aa-a833-4d47-9455-54705579fba1",
   "metadata": {},
   "outputs": [
    {
     "name": "stdout",
     "output_type": "stream",
     "text": [
      "['hello', 'world']\n"
     ]
    }
   ],
   "source": [
    "#39.\n",
    "a = \"hello\\nworld\"\n",
    "print(a.splitlines())"
   ]
  },
  {
   "cell_type": "code",
   "execution_count": 60,
   "id": "abec9b35-ad77-425d-a524-6f52e6d14002",
   "metadata": {},
   "outputs": [
    {
     "name": "stdout",
     "output_type": "stream",
     "text": [
      "True\n"
     ]
    }
   ],
   "source": [
    "#40.\n",
    "a = \"hello sachin\"\n",
    "print(a.startswith(\"hello\"))"
   ]
  },
  {
   "cell_type": "code",
   "execution_count": null,
   "id": "a8683ffa-6f18-43c6-b7ca-e9dad7ca7b06",
   "metadata": {},
   "outputs": [],
   "source": []
  }
 ],
 "metadata": {
  "kernelspec": {
   "display_name": "Python 3 (ipykernel)",
   "language": "python",
   "name": "python3"
  },
  "language_info": {
   "codemirror_mode": {
    "name": "ipython",
    "version": 3
   },
   "file_extension": ".py",
   "mimetype": "text/x-python",
   "name": "python",
   "nbconvert_exporter": "python",
   "pygments_lexer": "ipython3",
   "version": "3.13.3"
  }
 },
 "nbformat": 4,
 "nbformat_minor": 5
}
