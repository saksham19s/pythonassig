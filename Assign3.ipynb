{
 "cells": [
  {
   "cell_type": "code",
   "execution_count": null,
   "id": "73844271-e722-4c1b-bcbc-3700ec62c3c2",
   "metadata": {},
   "outputs": [],
   "source": [
    "address = input(\"Enter address: \")\n",
    "name = input(\"Enter the candidate's full name: \")\n",
    "designation = input(\"Enter the job title: \")\n",
    "joining_date = input(\"Enter the expected date of joining (DD-MM-YYYY): \")\n",
    "ctc = input(\"Enter salary: \")\n",
    "hr_name = input(\"Enter the HR  name: \")\n",
    "email = input(\"Enter the HR email ID: \")\n",
    "\n",
    "print(f\"\"\"\n",
    "{address}\n",
    "\n",
    "Dear {name},\n",
    "\n",
    "Subject: Offer of Employment for the position of {designation}.\n",
    "\n",
    "We are delighted to extend this formal offer of employment to you for the position of Python Developer at our organization. Based on your qualifications and the skills you demonstrated during the recruitment process, we are confident that you will be a valuable addition to our team.\n",
    "\n",
    "As discussed, your expected date of joining is {joining_date} . Your total compensation package will be {ctc}, which includes all salary components as per the company’s policy. Further details regarding your compensation will be provided in your employment contract.\n",
    "\n",
    "We expect you to bring your best efforts to help the company achieve its goals, and we are committed to supporting your professional growth during your time with us.\n",
    "\n",
    "Please confirm your acceptance of this offer by sending an email to {email} at your earliest convenience. Should you have any queries regarding this offer, feel free to reach out to us.\n",
    "\n",
    "We look forward to having you onboard and are excited about the great things we can accomplish together.\n",
    "\n",
    "{hr_name}\n",
    "HR Manager\n",
    "\"\"\")\n",
    "\n",
    "   \n",
    "\n"
   ]
  },
  {
   "cell_type": "code",
   "execution_count": null,
   "id": "4e01f41f-3838-45f7-864b-cca3e509afb7",
   "metadata": {},
   "outputs": [],
   "source": []
  }
 ],
 "metadata": {
  "kernelspec": {
   "display_name": "Python 3 (ipykernel)",
   "language": "python",
   "name": "python3"
  },
  "language_info": {
   "codemirror_mode": {
    "name": "ipython",
    "version": 3
   },
   "file_extension": ".py",
   "mimetype": "text/x-python",
   "name": "python",
   "nbconvert_exporter": "python",
   "pygments_lexer": "ipython3",
   "version": "3.13.3"
  }
 },
 "nbformat": 4,
 "nbformat_minor": 5
}
