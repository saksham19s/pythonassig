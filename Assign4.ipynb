{
 "cells": [
  {
   "cell_type": "code",
   "execution_count": 1,
   "id": "5b9292d8-d306-44e2-80c8-2f5acce2ab1f",
   "metadata": {},
   "outputs": [
    {
     "name": "stdin",
     "output_type": "stream",
     "text": [
      "Enter electricity units:  455\n"
     ]
    },
    {
     "name": "stdout",
     "output_type": "stream",
     "text": [
      "Total electricity bill: Rs 3050\n"
     ]
    }
   ],
   "source": [
    "#1.\n",
    "units = int(input(\"Enter electricity units: \"))\n",
    "bill = 0\n",
    "\n",
    "if units > 200:\n",
    "    bill += (units - 200) * 10\n",
    "    units = 200\n",
    "if units > 100:\n",
    "    bill += (units - 100) * 5\n",
    "\n",
    "print(\"Total electricity bill: Rs\", bill)\n"
   ]
  },
  {
   "cell_type": "code",
   "execution_count": 2,
   "id": "a3a51669-ff98-49a0-b436-f336fddbb9ef",
   "metadata": {},
   "outputs": [
    {
     "name": "stdin",
     "output_type": "stream",
     "text": [
      "Enter your percentage:  92\n"
     ]
    },
    {
     "name": "stdout",
     "output_type": "stream",
     "text": [
      "Grade: A\n"
     ]
    }
   ],
   "source": [
    "#2.\n",
    "percentage = float(input(\"Enter your percentage: \"))\n",
    "\n",
    "if percentage > 90:\n",
    "    print(\"Grade: A\")\n",
    "if percentage > 80 and percentage <= 90:\n",
    "    print(\"Grade: B\")\n",
    "if percentage >= 60 and percentage <= 80:\n",
    "    print(\"Grade: C\")\n",
    "if percentage < 60:\n",
    "    print(\"Grade: D\")\n"
   ]
  },
  {
   "cell_type": "code",
   "execution_count": 3,
   "id": "54effe9e-44fc-4ce0-a294-0e5f03e4d146",
   "metadata": {},
   "outputs": [
    {
     "name": "stdin",
     "output_type": "stream",
     "text": [
      "Enter age of person 1:  22\n",
      "Enter age of person 2:  25\n",
      "Enter age of person 3:  28\n",
      "Enter age of person 4:  15\n"
     ]
    },
    {
     "name": "stdout",
     "output_type": "stream",
     "text": [
      "Youngest age is: 15\n"
     ]
    }
   ],
   "source": [
    "#3.\n",
    "a = int(input(\"Enter age of person 1: \"))\n",
    "b = int(input(\"Enter age of person 2: \"))\n",
    "c = int(input(\"Enter age of person 3: \"))\n",
    "d = int(input(\"Enter age of person 4: \"))\n",
    "\n",
    "youngest = a\n",
    "\n",
    "if b < youngest:\n",
    "    youngest = b\n",
    "if c < youngest:\n",
    "    youngest = c\n",
    "if d < youngest:\n",
    "    youngest = d\n",
    "\n",
    "print(\"Youngest age is:\", youngest)\n"
   ]
  },
  {
   "cell_type": "code",
   "execution_count": 4,
   "id": "7bc75a67-90b7-4293-950a-1e0655d861d9",
   "metadata": {},
   "outputs": [
    {
     "name": "stdin",
     "output_type": "stream",
     "text": [
      "Enter your salary:  250000\n",
      "Enter years of service:  2\n"
     ]
    },
    {
     "name": "stdout",
     "output_type": "stream",
     "text": [
      "Bonus amount: Rs 12500.0\n"
     ]
    }
   ],
   "source": [
    "#4.\n",
    "salary = float(input(\"Enter your salary: \"))\n",
    "years = int(input(\"Enter years of service: \"))\n",
    "\n",
    "bonus = 0\n",
    "\n",
    "if years > 10:\n",
    "    bonus = salary * 0.10\n",
    "if years >= 6 and years <= 10:\n",
    "    bonus = salary * 0.08\n",
    "if years < 6:\n",
    "    bonus = salary * 0.05\n",
    "\n",
    "print(\"Bonus amount: Rs\", bonus)\n"
   ]
  },
  {
   "cell_type": "code",
   "execution_count": 5,
   "id": "1d2536f7-bf1a-409b-aac5-8aed6da6be84",
   "metadata": {},
   "outputs": [
    {
     "name": "stdin",
     "output_type": "stream",
     "text": [
      "Enter first number:  405\n",
      "Enter second number:  256\n",
      "Enter third number:  990\n"
     ]
    },
    {
     "name": "stdout",
     "output_type": "stream",
     "text": [
      "Second largest number is: 405\n"
     ]
    }
   ],
   "source": [
    "#5.\n",
    "a = int(input(\"Enter first number: \"))\n",
    "b = int(input(\"Enter second number: \"))\n",
    "c = int(input(\"Enter third number: \"))\n",
    "\n",
    "if (a > b and a < c) or (a < b and a > c):\n",
    "    second = a\n",
    "if (b > a and b < c) or (b < a and b > c):\n",
    "    second = b\n",
    "if (c > a and c < b) or (c < a and c > b):\n",
    "    second = c\n",
    "\n",
    "print(\"Second largest number is:\", second)\n"
   ]
  },
  {
   "cell_type": "code",
   "execution_count": 8,
   "id": "a67a0342-1f8b-41eb-becf-918e731c032f",
   "metadata": {},
   "outputs": [
    {
     "name": "stdin",
     "output_type": "stream",
     "text": [
      "Enter marked price:  20000\n"
     ]
    },
    {
     "name": "stdout",
     "output_type": "stream",
     "text": [
      "Net amount to pay: Rs 16000.0\n"
     ]
    }
   ],
   "source": [
    "#6.\n",
    "price = float(input(\"Enter marked price: \"))\n",
    "discount = 0\n",
    "\n",
    "if price > 10000:\n",
    "    discount = price * 0.20\n",
    "if price > 7000 and price <= 10000:\n",
    "    discount = price * 0.15\n",
    "if price <= 7000:\n",
    "    discount = price * 0.10\n",
    "\n",
    "net_price = price - discount\n",
    "print(\"Net amount to pay: Rs\", net_price)\n"
   ]
  },
  {
   "cell_type": "code",
   "execution_count": 9,
   "id": "f32e2cfc-11a9-4199-8825-6a1010e23be0",
   "metadata": {},
   "outputs": [
    {
     "name": "stdin",
     "output_type": "stream",
     "text": [
      "Enter marks in English:  85\n",
      "Enter marks in Math:  80\n",
      "Enter marks in Science:  90\n",
      "Enter marks in Social Studies:  78\n"
     ]
    },
    {
     "name": "stdout",
     "output_type": "stream",
     "text": [
      "Allotted Stream: Commerce\n"
     ]
    }
   ],
   "source": [
    "#7.\n",
    "eng = int(input(\"Enter marks in English: \"))\n",
    "math = int(input(\"Enter marks in Math: \"))\n",
    "sci = int(input(\"Enter marks in Science: \"))\n",
    "sst = int(input(\"Enter marks in Social Studies: \"))\n",
    "\n",
    "if eng > 80 and math > 80 and sci > 80 and sst > 80:\n",
    "    print(\"Allotted Stream: Science\")\n",
    "if eng > 80 and math > 50 and sci > 50:\n",
    "    print(\"Allotted Stream: Commerce\")\n",
    "if eng > 80 and sst > 80:\n",
    "    print(\"Allotted Stream: Humanities\")\n"
   ]
  },
  {
   "cell_type": "code",
   "execution_count": 11,
   "id": "48e74f3a-4020-4364-8958-3fda94f5fb4c",
   "metadata": {},
   "outputs": [
    {
     "name": "stdin",
     "output_type": "stream",
     "text": [
      "Enter a number:  16\n"
     ]
    },
    {
     "name": "stdout",
     "output_type": "stream",
     "text": [
      "Bye\n"
     ]
    }
   ],
   "source": [
    "#8.\n",
    "num = int(input(\"Enter a number: \"))\n",
    "\n",
    "if num % 5 == 0:\n",
    "    print(\"Hello\")\n",
    "if num % 5 != 0:\n",
    "    print(\"Bye\")\n"
   ]
  },
  {
   "cell_type": "code",
   "execution_count": 14,
   "id": "2df42cbe-2a2e-4963-92fe-5985109fd333",
   "metadata": {},
   "outputs": [
    {
     "name": "stdin",
     "output_type": "stream",
     "text": [
      "Enter a number:  20\n"
     ]
    },
    {
     "name": "stdout",
     "output_type": "stream",
     "text": [
      "Last digit is divisible by 3\n"
     ]
    }
   ],
   "source": [
    "#9.\n",
    "num = int(input(\"Enter a number: \"))\n",
    "last_digit = num % 10\n",
    "\n",
    "if last_digit % 3 == 0:\n",
    "    print(\"Last digit is divisible by 3\")\n",
    "if last_digit % 3 != 0:\n",
    "    print(\"Last digit is not divisible by 3\")\n"
   ]
  },
  {
   "cell_type": "code",
   "execution_count": 16,
   "id": "062b6db8-7d7f-48ff-bf88-8bdde9d0d2a8",
   "metadata": {},
   "outputs": [
    {
     "name": "stdin",
     "output_type": "stream",
     "text": [
      "Enter a number:  255\n"
     ]
    },
    {
     "name": "stdout",
     "output_type": "stream",
     "text": [
      "It is a three-digit number\n"
     ]
    }
   ],
   "source": [
    "#10.\n",
    "num = int(input(\"Enter a number: \"))\n",
    "\n",
    "if num >= 100 and num <= 999:\n",
    "    print(\"It is a three-digit number\")\n",
    "if num < 100 or num > 999:\n",
    "    print(\"It is not a three-digit number\")\n"
   ]
  },
  {
   "cell_type": "code",
   "execution_count": null,
   "id": "96de5446-db4d-4744-bbde-5c685923cfbf",
   "metadata": {},
   "outputs": [],
   "source": []
  }
 ],
 "metadata": {
  "kernelspec": {
   "display_name": "Python 3 (ipykernel)",
   "language": "python",
   "name": "python3"
  },
  "language_info": {
   "codemirror_mode": {
    "name": "ipython",
    "version": 3
   },
   "file_extension": ".py",
   "mimetype": "text/x-python",
   "name": "python",
   "nbconvert_exporter": "python",
   "pygments_lexer": "ipython3",
   "version": "3.13.3"
  }
 },
 "nbformat": 4,
 "nbformat_minor": 5
}
