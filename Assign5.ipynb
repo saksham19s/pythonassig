{
 "cells": [
  {
   "cell_type": "code",
   "execution_count": 1,
   "id": "fec7b835-7a82-40ba-acdf-4498ad89355b",
   "metadata": {},
   "outputs": [
    {
     "name": "stdout",
     "output_type": "stream",
     "text": [
      "1\n",
      "2\n",
      "3\n",
      "4\n",
      "5\n",
      "6\n",
      "7\n",
      "8\n",
      "9\n",
      "10\n"
     ]
    }
   ],
   "source": [
    "#1.\n",
    "for i in range(1,11):\n",
    "    print(i)"
   ]
  },
  {
   "cell_type": "code",
   "execution_count": 5,
   "id": "2e9994ce-74d9-4edb-b9e1-a45a9eb0e30c",
   "metadata": {},
   "outputs": [
    {
     "name": "stdout",
     "output_type": "stream",
     "text": [
      "sum: 1\n",
      "sum: 3\n",
      "sum: 6\n",
      "sum: 10\n",
      "sum: 15\n",
      "sum: 21\n",
      "sum: 28\n",
      "sum: 36\n",
      "sum: 45\n",
      "sum: 55\n",
      "sum: 66\n",
      "sum: 78\n",
      "sum: 91\n",
      "sum: 105\n",
      "sum: 120\n",
      "sum: 136\n",
      "sum: 153\n",
      "sum: 171\n",
      "sum: 190\n",
      "sum: 210\n",
      "sum: 231\n",
      "sum: 253\n",
      "sum: 276\n",
      "sum: 300\n",
      "sum: 325\n",
      "sum: 351\n",
      "sum: 378\n",
      "sum: 406\n",
      "sum: 435\n",
      "sum: 465\n",
      "sum: 496\n",
      "sum: 528\n",
      "sum: 561\n",
      "sum: 595\n",
      "sum: 630\n",
      "sum: 666\n",
      "sum: 703\n",
      "sum: 741\n",
      "sum: 780\n",
      "sum: 820\n",
      "sum: 861\n",
      "sum: 903\n",
      "sum: 946\n",
      "sum: 990\n",
      "sum: 1035\n",
      "sum: 1081\n",
      "sum: 1128\n",
      "sum: 1176\n",
      "sum: 1225\n",
      "sum: 1275\n",
      "sum: 1326\n",
      "sum: 1378\n",
      "sum: 1431\n",
      "sum: 1485\n",
      "sum: 1540\n",
      "sum: 1596\n",
      "sum: 1653\n",
      "sum: 1711\n",
      "sum: 1770\n",
      "sum: 1830\n",
      "sum: 1891\n",
      "sum: 1953\n",
      "sum: 2016\n",
      "sum: 2080\n",
      "sum: 2145\n",
      "sum: 2211\n",
      "sum: 2278\n",
      "sum: 2346\n",
      "sum: 2415\n",
      "sum: 2485\n",
      "sum: 2556\n",
      "sum: 2628\n",
      "sum: 2701\n",
      "sum: 2775\n",
      "sum: 2850\n",
      "sum: 2926\n",
      "sum: 3003\n",
      "sum: 3081\n",
      "sum: 3160\n",
      "sum: 3240\n",
      "sum: 3321\n",
      "sum: 3403\n",
      "sum: 3486\n",
      "sum: 3570\n",
      "sum: 3655\n",
      "sum: 3741\n",
      "sum: 3828\n",
      "sum: 3916\n",
      "sum: 4005\n",
      "sum: 4095\n",
      "sum: 4186\n",
      "sum: 4278\n",
      "sum: 4371\n",
      "sum: 4465\n",
      "sum: 4560\n",
      "sum: 4656\n",
      "sum: 4753\n",
      "sum: 4851\n",
      "sum: 4950\n",
      "sum: 5050\n"
     ]
    }
   ],
   "source": [
    "#2.\n",
    "total = 0\n",
    "for i in range(1,101):\n",
    "    total += i\n",
    "    print(\"sum:\", total)"
   ]
  },
  {
   "cell_type": "code",
   "execution_count": 6,
   "id": "b1bff393-6a3c-41d4-bdbd-51fcd355a2f7",
   "metadata": {},
   "outputs": [
    {
     "name": "stdin",
     "output_type": "stream",
     "text": [
      "enter number : 21\n"
     ]
    },
    {
     "name": "stdout",
     "output_type": "stream",
     "text": [
      "21 x 1 = 21\n",
      "21 x 2 = 42\n",
      "21 x 3 = 63\n",
      "21 x 4 = 84\n",
      "21 x 5 = 105\n",
      "21 x 6 = 126\n",
      "21 x 7 = 147\n",
      "21 x 8 = 168\n",
      "21 x 9 = 189\n",
      "21 x 10 = 210\n"
     ]
    }
   ],
   "source": [
    "#3.\n",
    "number = int(input(\"enter number :\"))\n",
    "for i in range(1,11):\n",
    "    print(f\"{number} x {i} = {number * i}\")"
   ]
  },
  {
   "cell_type": "code",
   "execution_count": 8,
   "id": "59465156-0877-430c-9062-42d6b976eadf",
   "metadata": {},
   "outputs": [],
   "source": [
    "#4.\n",
    "  "
   ]
  },
  {
   "cell_type": "code",
   "execution_count": 9,
   "id": "afd35049-1584-4d88-bd09-1089acb9e61d",
   "metadata": {},
   "outputs": [
    {
     "name": "stdin",
     "output_type": "stream",
     "text": [
      "enter number:  5\n"
     ]
    },
    {
     "name": "stdout",
     "output_type": "stream",
     "text": [
      "factorial: 1\n",
      "factorial: 2\n",
      "factorial: 6\n",
      "factorial: 24\n",
      "factorial: 120\n"
     ]
    }
   ],
   "source": [
    "#5.\n",
    "num = int(input(\"enter number: \"))\n",
    "factorial = 1\n",
    "for i in range(1, num + 1):\n",
    "    factorial *= i\n",
    "    print(\"factorial:\", factorial) "
   ]
  },
  {
   "cell_type": "code",
   "execution_count": 10,
   "id": "6fd3c9cf-ef6c-4c8d-af69-56b55b284c9b",
   "metadata": {},
   "outputs": [
    {
     "name": "stdin",
     "output_type": "stream",
     "text": [
      "enter the number of fibonacci:  15\n"
     ]
    },
    {
     "name": "stdout",
     "output_type": "stream",
     "text": [
      "01123581321345589144233377"
     ]
    }
   ],
   "source": [
    "#6.\n",
    "n = int(input(\"enter the number of fibonacci: \"))\n",
    "a, b = 0,1\n",
    "for i in range(n):\n",
    "    print(a, end=\"\")\n",
    "    a, b = b, a+b "
   ]
  },
  {
   "cell_type": "code",
   "execution_count": 14,
   "id": "31532335-b066-4579-ad50-521a82153ef1",
   "metadata": {},
   "outputs": [],
   "source": [
    "#7.\n"
   ]
  },
  {
   "cell_type": "code",
   "execution_count": 18,
   "id": "8210a3a9-c75d-4089-9700-1fa77cb13a76",
   "metadata": {},
   "outputs": [
    {
     "name": "stdout",
     "output_type": "stream",
     "text": [
      "largest number: \n",
      "largest number: \n",
      "largest number: \n",
      "largest number: \n",
      "largest number: \n"
     ]
    }
   ],
   "source": [
    "#8.\n",
    "numbers =[5,8,3,12,4]\n",
    "max_num = numbers[0]\n",
    "for num in numbers:\n",
    "    if num > max_num:\n",
    "      max_num = num\n",
    "    print(\"largest number: \",max_num)"
   ]
  },
  {
   "cell_type": "code",
   "execution_count": 24,
   "id": "c26003e6-dd0b-412f-b11a-3f3143029c31",
   "metadata": {},
   "outputs": [],
   "source": [
    "#9.\n",
    "\n"
   ]
  },
  {
   "cell_type": "code",
   "execution_count": 23,
   "id": "d5c33dc9-2179-411b-968a-c3787eb07aac",
   "metadata": {},
   "outputs": [
    {
     "name": "stdout",
     "output_type": "stream",
     "text": [
      "common elements: [1]\n"
     ]
    }
   ],
   "source": [
    "#10.\n",
    "list1 = [1,2,3]\n",
    "list2 = [4,5,1]\n",
    "common = []\n",
    "\n",
    "for item in list1:\n",
    "    for item2 in list2:\n",
    "        if item == item2:\n",
    "            common.append(item)\n",
    "            print(\"common elements:\",common)\n",
    "            "
   ]
  },
  {
   "cell_type": "code",
   "execution_count": null,
   "id": "de8d1501-b37f-4c5a-95a6-c930ed01c1f0",
   "metadata": {},
   "outputs": [],
   "source": []
  }
 ],
 "metadata": {
  "kernelspec": {
   "display_name": "Python 3 (ipykernel)",
   "language": "python",
   "name": "python3"
  },
  "language_info": {
   "codemirror_mode": {
    "name": "ipython",
    "version": 3
   },
   "file_extension": ".py",
   "mimetype": "text/x-python",
   "name": "python",
   "nbconvert_exporter": "python",
   "pygments_lexer": "ipython3",
   "version": "3.13.3"
  }
 },
 "nbformat": 4,
 "nbformat_minor": 5
}
